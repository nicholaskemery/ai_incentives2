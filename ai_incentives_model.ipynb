{
 "cells": [
  {
   "cell_type": "code",
   "execution_count": 1,
   "metadata": {},
   "outputs": [],
   "source": [
    "import numpy as np\n",
    "import matplotlib.pyplot as plt\n",
    "from scipy.optimize import minimize, Bounds"
   ]
  },
  {
   "cell_type": "markdown",
   "metadata": {},
   "source": [
    "## The updated model\n",
    "\n",
    "Separate labor and capital for performance and safety, and have performance level play into safety:\n",
    "\n",
    "$$p = B(b K_p^\\sigma + (1-b) L_p^\\sigma)^{\\nu / \\sigma}$$\n",
    "$$s = A(a K_s^\\rho + (1-a) L_s^\\rho)^{\\mu / \\rho} \\cdot p^{-\\theta}$$\n",
    "\n",
    "Payoff is the same as before:\n",
    "$$\\pi_i = \\left( \\prod_j \\frac{s_j}{1+s_j} \\right) R_i - \\left(1 - \\prod_j \\frac{s_j}{1+s_j} \\right) d_i - r(K_{pi} + K_{si}) - w(L_{pi} + K_{si})$$"
   ]
  },
  {
   "cell_type": "code",
   "execution_count": 2,
   "metadata": {},
   "outputs": [],
   "source": [
    "class ProdFunc:\n",
    "    def __init__(\n",
    "        self,\n",
    "        A=1.0, a=0.5, rho=1.0, mu=1.0,\n",
    "        B=1.0, b=0.5, sigma=1.0, nu=1.0,\n",
    "        theta=1.0\n",
    "    ):\n",
    "        self.A = A\n",
    "        self.a = a\n",
    "        self.rho = rho\n",
    "        self.mu = mu\n",
    "        self.B = B\n",
    "        self.b = b\n",
    "        self.sigma = sigma\n",
    "        self.nu = nu\n",
    "        self.theta = theta\n",
    "        self.S = np.vectorize(self.S_)\n",
    "        self.P = np.vectorize(self.P_)\n",
    "\n",
    "    def S_(self, K, L, p):\n",
    "        return self.A * (self.a * K**self.rho + (1-self.a) * L**self.rho)**(self.mu/self.rho) * p**(-self.theta)\n",
    "\n",
    "    def P_(self, K, L):\n",
    "        return self.B * (self.b * K**self.sigma + (1-self.b) * L**self.sigma)**(self.nu/self.sigma)\n",
    "\n",
    "    def plot(self, Kmax=1.0, Lmax=1.0, nticks=100, ncontours=20):\n",
    "        KK, LL = np.meshgrid(np.linspace(0, Kmax, nticks), np.linspace(0, Lmax,\n",
    "        nticks))\n",
    "        PP = self.P(KK, LL)\n",
    "        fig, (ax0, ax1) = plt.subplots(1, 2, figsize=(12, 5))\n",
    "        fig.colorbar(ax0.contour(KK, LL, self.S(KK, LL, PP), ncontours), ax=ax0)\n",
    "        fig.colorbar(ax1.contour(KK, LL, PP, ncontours), ax=ax1)\n",
    "        ax0.set_title('S')\n",
    "        ax1.set_title('P')\n",
    "        ax0.set_xlabel('K')\n",
    "        ax1.set_xlabel('K')\n",
    "        ax0.set_ylabel('L')\n",
    "        ax1.set_ylabel('L')\n",
    "        plt.show()\n",
    "\n",
    "    def get_func(self):\n",
    "        def func(x):\n",
    "            # assume x = (Ks, Kp, Ls, Lp)\n",
    "            p = self.P_(x[1], x[3])\n",
    "            return np.array([self.S_(x[0], x[2], p), p])\n",
    "        return func\n",
    "        \n",
    "    def get_jac(self):\n",
    "        def jac(x):\n",
    "            # assume x = (Ks, Kp, Ls, Lp)\n",
    "            p = self.P_(x[1], x[3])\n",
    "            s = self.S_(x[0], x[2], p)\n",
    "            S_mult = self.A * self.mu * (s / self.A)**((self.mu - self.rho) / self.mu) * p**(-self.theta)\n",
    "            P_mult = self.B * self.nu * (p / self.B)**((self.nu - self.sigma) / self.nu)\n",
    "            dPdK = self.b * x[1]**(self.sigma - 1) * P_mult\n",
    "            dPdL = (1-self.b) * x[3]**(self.sigma - 1) * P_mult\n",
    "            return np.array(\n",
    "                [\n",
    "                    [\n",
    "                        self.a * x[0]**(self.rho-1) * S_mult,\n",
    "                        s * (-self.theta) * p**(-self.theta-1) * dPdK,\n",
    "                        (1-self.a) * x[2]**(self.rho-1) * S_mult,\n",
    "                        s * (-self.theta) * p**(-self.theta-1) * dPdL\n",
    "                    ],\n",
    "                    [\n",
    "                        0.0,\n",
    "                        dPdK,\n",
    "                        0.0,\n",
    "                        dPdL\n",
    "                    ]\n",
    "                ]\n",
    "            )\n",
    "        return jac"
   ]
  },
  {
   "cell_type": "code",
   "execution_count": 3,
   "metadata": {},
   "outputs": [],
   "source": [
    "eps = 1e-10\n",
    "\n",
    "def default_reward(p):\n",
    "    return np.sqrt(p+eps)\n",
    "\n",
    "def default_reward_jac(p):\n",
    "    return 0.5 * p**(-0.5)\n",
    "\n",
    "class SingleAgent:\n",
    "    def __init__(self, d, r, w, R=None, R_jac=None, prodFunc=None):\n",
    "        self.d = d\n",
    "        self.r = r\n",
    "        self.w = w\n",
    "        self.prodFunc = ProdFunc() if prodFunc is None else prodFunc\n",
    "        self.R = default_reward if R is None else R\n",
    "        self.R_jac = default_reward_jac if R_jac is None else R_jac\n",
    "        self.net_payoff = np.vectorize(self.net_payoff_)\n",
    "\n",
    "    def net_payoff_(self, Ks, Kp, Ls, Lp):\n",
    "        p = self.prodFunc.P_(Kp, Lp)\n",
    "        s = self.prodFunc.S_(Ks, Ls, p)\n",
    "        proba = s / (1 + s)\n",
    "        return proba * self.R(p) - (1 - proba) * self.d - self.r * (Ks + Kp) - self.w * (Ls + Lp)\n",
    "\n",
    "    # def plot(self, Kmax=1.0, Lmax=1.0, nticks=100, ncontours=20, max_=None):\n",
    "    #     Kspace = np.linspace(0, Kmax, nticks)\n",
    "    #     Lspace = np.linspace(0, Lmax, nticks)\n",
    "    #     KKs, KKp, LLs, LLp = np.meshgrid(Kspace, Kspace, Lspace, Lspace)\n",
    "    #     payoffs = self.net_payoff(KKs, KKp, LLs, LLp)\n",
    "    #     plt.figure(figsize=(6, 5))\n",
    "    #     plt.colorbar(plt.contour(KKs, LLs, , ncontours))\n",
    "    #     if max_ is not None:\n",
    "    #         plt.scatter(*max_, marker='x')\n",
    "    #         plt.title('Net payoff as function of K, L; optimum marked with x')\n",
    "    #     else:\n",
    "    #         plt.title('Net payoff as function of K, L')\n",
    "    #     plt.xlabel('K')\n",
    "    #     plt.ylabel('L')\n",
    "    #     plt.show()\n",
    "\n",
    "    def get_func(self):\n",
    "        return lambda x: -self.net_payoff_(*x)\n",
    "\n",
    "    def get_jac(self):\n",
    "        prod_jac = self.prodFunc.get_jac()\n",
    "        def jac(x):\n",
    "            p = self.prodFunc.P_(x[1], x[3])\n",
    "            s = self.prodFunc.S_(x[0], x[2], p)\n",
    "            proba = s / (1 + s)\n",
    "            prod_jac_ = prod_jac(x)\n",
    "            s_ks = prod_jac_[0, 0]\n",
    "            s_kp = prod_jac_[0, 1]\n",
    "            s_ls = prod_jac_[0, 2]\n",
    "            s_lp = prod_jac_[0, 3]\n",
    "            proba_ks = s_ks / (1 + s)**2\n",
    "            proba_kp = s_kp / (1 + s)**2\n",
    "            proba_ls = s_ls / (1 + s)**2\n",
    "            proba_lp = s_lp / (1 + s)**2\n",
    "            p_ks = prod_jac_[1, 0]\n",
    "            p_kp = prod_jac_[1, 1]\n",
    "            p_ls = prod_jac_[1, 2]\n",
    "            p_lp = prod_jac_[1, 3]\n",
    "            R = self.R(p)\n",
    "            R_jac = self.R_jac(p)\n",
    "            return -np.array([\n",
    "                proba_ks * (R + self.d) + proba * R_jac * p_ks - self.r,\n",
    "                proba_kp * (R + self.d) + proba * R_jac * p_kp - self.r,\n",
    "                proba_ls * (R + self.d) + proba * R_jac * p_ls - self.w,\n",
    "                proba_lp * (R + self.d) + proba * R_jac * p_lp - self.w\n",
    "            ])\n",
    "        return jac\n",
    "\n",
    "    def solve(self, x0=(1, 1, 1, 1), verbose=1, plot=False):\n",
    "        res = minimize(\n",
    "            self.get_func(), x0, method='trust-constr',\n",
    "            jac=self.get_jac(),\n",
    "            bounds=Bounds([0.0, 0.0, 0.0, 0.0], [np.inf, np.inf, np.inf, np.inf]),\n",
    "            options={\n",
    "                'xtol': 1e-5,\n",
    "                # 'maxiter': maxiter,\n",
    "                'verbose': verbose\n",
    "            }\n",
    "        )\n",
    "        # if plot:\n",
    "        #     plotsize = int(max(res.x) * 1.5) + 1\n",
    "        #     self.plot(plotsize, plotsize, max_=res.x)\n",
    "        return res"
   ]
  },
  {
   "cell_type": "code",
   "execution_count": 7,
   "metadata": {},
   "outputs": [
    {
     "name": "stdout",
     "output_type": "stream",
     "text": [
      "`xtol` termination condition is satisfied.\n",
      "Number of iterations: 189, function evaluations: 191, CG iterations: 196, optimality: 8.04e-03, constraint violation: 0.00e+00, execution time: 0.18 s.\n"
     ]
    },
    {
     "name": "stderr",
     "output_type": "stream",
     "text": [
      "/home/mckay/anaconda3/lib/python3.8/site-packages/scipy/optimize/_hessian_update_strategy.py:182: UserWarning: delta_grad == 0.0. Check if the approximated function is linear. If the function is linear better results can be obtained by defining the Hessian as zero instead of using quasi-Newton approximations.\n",
      "  warn('delta_grad == 0.0. Check if the approximated '\n"
     ]
    },
    {
     "data": {
      "text/plain": [
       " barrier_parameter: 2.048000000000001e-09\n",
       " barrier_tolerance: 2.048000000000001e-09\n",
       "          cg_niter: 196\n",
       "      cg_stop_cond: 2\n",
       "            constr: [array([2.77761238, 4.4716723 , 5.41449478, 0.23883675])]\n",
       "       constr_nfev: [0]\n",
       "       constr_nhev: [0]\n",
       "       constr_njev: [0]\n",
       "    constr_penalty: 1.0\n",
       "  constr_violation: 0.0\n",
       "    execution_time: 0.1795656681060791\n",
       "               fun: -0.4368651664399204\n",
       "              grad: array([ 0.009084  , -0.00685703, -0.00127378,  0.00094758])\n",
       "               jac: [<4x4 sparse matrix of type '<class 'numpy.float64'>'\n",
       "\twith 4 stored elements in Compressed Sparse Row format>]\n",
       "   lagrangian_grad: array([ 8.04167285e-03, -6.53043905e-03, -1.23176823e-03,  5.11351968e-05])\n",
       "           message: '`xtol` termination condition is satisfied.'\n",
       "            method: 'tr_interior_point'\n",
       "              nfev: 191\n",
       "              nhev: 0\n",
       "               nit: 189\n",
       "             niter: 189\n",
       "              njev: 191\n",
       "        optimality: 0.008041672848588899\n",
       "            status: 2\n",
       "           success: True\n",
       "         tr_radius: 7.62939453125e-06\n",
       "                 v: [array([-1.04232566e-03,  3.26589210e-04,  4.20154685e-05, -8.96441108e-04])]\n",
       "                 x: array([2.77761238, 4.4716723 , 5.41449478, 0.23883675])"
      ]
     },
     "execution_count": 7,
     "metadata": {},
     "output_type": "execute_result"
    }
   ],
   "source": [
    "prodFunc = ProdFunc(a=0.2, rho=0.5, mu=0.6, b=0.8, sigma=0.5, nu=0.6)\n",
    "problem = SingleAgent(\n",
    "    d=0.1, r=0.02, w=0.03,\n",
    "    prodFunc=prodFunc\n",
    ")\n",
    "\n",
    "problem.solve()"
   ]
  },
  {
   "cell_type": "code",
   "execution_count": 8,
   "metadata": {},
   "outputs": [
    {
     "name": "stderr",
     "output_type": "stream",
     "text": [
      "<ipython-input-5-bbc14d6393ad>:24: RuntimeWarning: invalid value encountered in double_scalars\n",
      "  return self.B * (self.b * K**self.sigma + (1-self.b) * L**self.sigma)**(self.nu/self.sigma)\n",
      "<ipython-input-5-bbc14d6393ad>:56: RuntimeWarning: invalid value encountered in double_scalars\n",
      "  dPdL = (1-self.b) * x[3]**(self.sigma - 1) * P_mult\n"
     ]
    }
   ],
   "source": [
    "prodFunc = ProdFunc(a=0.2, rho=0.5, mu=0.6, b=0.8, sigma=0.5, nu=0.6)\n",
    "\n",
    "R = np.linspace(0.01, 0.05, 50)\n",
    "\n",
    "xs = np.stack([\n",
    "    SingleAgent(d=0.1, r=r, w=0.03, prodFunc=prodFunc).solve(verbose=0).x\n",
    "    for r in R\n",
    "])"
   ]
  },
  {
   "cell_type": "code",
   "execution_count": 9,
   "metadata": {},
   "outputs": [
    {
     "data": {
      "image/png": "[encoded data removed]",
      "text/plain": [
       "<Figure size 432x288 with 1 Axes>"
      ]
     },
     "metadata": {
      "needs_background": "light"
     },
     "output_type": "display_data"
    }
   ],
   "source": [
    "plt.plot(R, xs[:, 0], label='Ks')\n",
    "plt.plot(R, xs[:, 1], label='Kp')\n",
    "plt.plot(R, xs[:, 2], label='Ls')\n",
    "plt.plot(R, xs[:, 3], label='Lp')\n",
    "plt.legend()\n",
    "plt.show()"
   ]
  },
  {
   "cell_type": "code",
   "execution_count": 4,
   "metadata": {},
   "outputs": [],
   "source": [
    "class SingleAgentIntervention(SingleAgent):\n",
    "    def __init__(self, d, r, w, s, c, R=None, R_jac=None, prodFunc=None):\n",
    "        super().__init__(d, r, w, R, R_jac, prodFunc)\n",
    "        self.s = s\n",
    "        self.c = c\n",
    "\n",
    "    def net_payoff_(self, Ks, Kp, Ls, Lp):\n",
    "        p = self.prodFunc.P_(Kp, Lp)\n",
    "        s = self.prodFunc.S_(Ks, Ls, p) + self.s\n",
    "        proba = s / (1 + s)\n",
    "        return proba * self.R(p) - (1 - proba) * self.d - self.r * (Ks + Kp) - self.w * (Ls + Lp) - self.c\n",
    "\n",
    "    def get_jac(self):\n",
    "        prod_jac = self.prodFunc.get_jac()\n",
    "        def jac(x):\n",
    "            p = self.prodFunc.P_(x[1], x[3])\n",
    "            s = self.prodFunc.S_(x[0], x[2], p) + self.s\n",
    "            proba = s / (1 + s)\n",
    "            prod_jac_ = prod_jac(x)\n",
    "            s_ks = prod_jac_[0, 0]\n",
    "            s_kp = prod_jac_[0, 1]\n",
    "            s_ls = prod_jac_[0, 2]\n",
    "            s_lp = prod_jac_[0, 3]\n",
    "            proba_ks = s_ks / (1 + s)**2\n",
    "            proba_kp = s_kp / (1 + s)**2\n",
    "            proba_ls = s_ls / (1 + s)**2\n",
    "            proba_lp = s_lp / (1 + s)**2\n",
    "            p_ks = prod_jac_[1, 0]\n",
    "            p_kp = prod_jac_[1, 1]\n",
    "            p_ls = prod_jac_[1, 2]\n",
    "            p_lp = prod_jac_[1, 3]\n",
    "            R = self.R(p)\n",
    "            R_jac = self.R_jac(p)\n",
    "            return -np.array([\n",
    "                proba_ks * (R + self.d) + proba * R_jac * p_ks - self.r,\n",
    "                proba_kp * (R + self.d) + proba * R_jac * p_kp - self.r,\n",
    "                proba_ls * (R + self.d) + proba * R_jac * p_ls - self.w,\n",
    "                proba_lp * (R + self.d) + proba * R_jac * p_lp - self.w\n",
    "            ])\n",
    "        return jac"
   ]
  },
  {
   "cell_type": "code",
   "execution_count": 11,
   "metadata": {},
   "outputs": [
    {
     "name": "stderr",
     "output_type": "stream",
     "text": [
      "/home/mckay/anaconda3/lib/python3.8/site-packages/scipy/optimize/_hessian_update_strategy.py:182: UserWarning: delta_grad == 0.0. Check if the approximated function is linear. If the function is linear better results can be obtained by defining the Hessian as zero instead of using quasi-Newton approximations.\n",
      "  warn('delta_grad == 0.0. Check if the approximated '\n"
     ]
    },
    {
     "data": {
      "image/png": "[encoded data removed]",
      "text/plain": [
       "<Figure size 432x288 with 1 Axes>"
      ]
     },
     "metadata": {
      "needs_background": "light"
     },
     "output_type": "display_data"
    }
   ],
   "source": [
    "prodFunc = ProdFunc(a=0.2, rho=0.5, mu=0.6, b=0.8, sigma=0.5, nu=0.6)\n",
    "\n",
    "\n",
    "S = np.linspace(0, 1, 40)\n",
    "xs = np.stack([\n",
    "    SingleAgentIntervention(\n",
    "        d=0.4, r=0.02, w=0.03,\n",
    "        s=s, c=0.0,\n",
    "        prodFunc=prodFunc\n",
    "    ).solve(verbose=0).x\n",
    "    for s in S\n",
    "])\n",
    "\n",
    "plt.plot(S, xs[:, 0], label='Ks')\n",
    "plt.plot(S, xs[:, 1], label='Kp')\n",
    "plt.plot(S, xs[:, 2], label='Ls')\n",
    "plt.plot(S, xs[:, 3], label='Lp')\n",
    "plt.legend()\n",
    "plt.show()"
   ]
  },
  {
   "cell_type": "code",
   "execution_count": 12,
   "metadata": {},
   "outputs": [
    {
     "data": {
      "image/png": "[encoded data removed]",
      "text/plain": [
       "<Figure size 432x288 with 1 Axes>"
      ]
     },
     "metadata": {
      "needs_background": "light"
     },
     "output_type": "display_data"
    },
    {
     "data": {
      "image/png": "[encoded data removed]",
      "text/plain": [
       "<Figure size 432x288 with 1 Axes>"
      ]
     },
     "metadata": {
      "needs_background": "light"
     },
     "output_type": "display_data"
    },
    {
     "data": {
      "image/png": "[encoded data removed]",
      "text/plain": [
       "<Figure size 432x288 with 1 Axes>"
      ]
     },
     "metadata": {
      "needs_background": "light"
     },
     "output_type": "display_data"
    }
   ],
   "source": [
    "safety = []\n",
    "performance = []\n",
    "payoff = []\n",
    "for x, s in zip(xs, S):\n",
    "    p = prodFunc.P_(x[1], x[3])\n",
    "    safety.append(prodFunc.S_(x[0], x[1], p) + s)\n",
    "    performance.append(p)\n",
    "    payoff.append(\n",
    "        SingleAgentIntervention(\n",
    "            d=0.4, r=0.02, w=0.03,\n",
    "            s=s, c=0.0,\n",
    "            prodFunc=prodFunc\n",
    "        ).net_payoff_(*x)\n",
    "    )\n",
    "\n",
    "plt.plot(S, safety)\n",
    "plt.show()\n",
    "\n",
    "plt.plot(S, performance)\n",
    "plt.show()\n",
    "\n",
    "plt.plot(S, payoff)\n",
    "plt.show()"
   ]
  },
  {
   "cell_type": "code",
   "execution_count": 13,
   "metadata": {},
   "outputs": [
    {
     "data": {
      "text/plain": [
       "[<matplotlib.lines.Line2D at 0x7f4588552880>]"
      ]
     },
     "execution_count": 13,
     "metadata": {},
     "output_type": "execute_result"
    },
    {
     "data": {
      "image/png": "[encoded data removed]",
      "text/plain": [
       "<Figure size 432x288 with 1 Axes>"
      ]
     },
     "metadata": {
      "needs_background": "light"
     },
     "output_type": "display_data"
    }
   ],
   "source": [
    "plt.plot(np.array(safety) - S)"
   ]
  },
  {
   "cell_type": "code",
   "execution_count": 5,
   "metadata": {},
   "outputs": [],
   "source": [
    "# Now to think about solving Nash equilibrium in multi-agent case --\n",
    "# Take approach from that one paper\n",
    "\n",
    "class VecProdFunc:\n",
    "\n",
    "    def __init__(self, A, a, rho, mu, B, b, sigma, nu, theta):\n",
    "        \"\"\"All args here and in all following functions expected to be np arrays of same length\"\"\"\n",
    "        self.A = A\n",
    "        self.a = a\n",
    "        self.rho = rho\n",
    "        self.mu = mu\n",
    "        self.B = B\n",
    "        self.b = b\n",
    "        self.sigma = sigma\n",
    "        self.nu = nu\n",
    "        self.theta = theta\n",
    "    \n",
    "    def S_single_i(self, Ks, Ls, p, i):\n",
    "        return self.A[i] * (self.a[i] * Ks**self.rho[i] + (1-self.a[i]) * Ls**self.rho[i])**(self.mu[i] / self.rho[i]) * p**(-self.theta[i])\n",
    "    \n",
    "    def S(self, Ks, Ls, p):\n",
    "        return self.A * (self.a * Ks**self.rho + (1-self.a) * Ls**self.rho)**(self.mu / self.rho) * p**(-self.theta)\n",
    "    \n",
    "    def P_single_i(self, Kp, Lp, i):\n",
    "        return self.B[i] * (self.b[i] * Kp**self.sigma[i] + (1-self.b[i]) * Lp**self.sigma[i])**(self.nu[i] / self.sigma[i])\n",
    "    \n",
    "    def P(self, Kp, Lp):\n",
    "        return self.B * (self.b * Kp**self.sigma + (1-self.b) * Lp**self.sigma)**(self.nu/self.sigma)\n",
    "\n",
    "    def get_jac(self, i):\n",
    "        def jac(x):\n",
    "            p = self.P_single_i(x[..., 1], x[..., 3], i)\n",
    "            s = self.S_single_i(x[..., 0], x[..., 2], p, i)\n",
    "            A = self.A[i]\n",
    "            a = self.a[i]\n",
    "            mu = self.mu[i]\n",
    "            rho = self.rho[i]\n",
    "            theta = self.theta[i]\n",
    "            B = self.B[i]\n",
    "            b = self.b[i]\n",
    "            sigma = self.sigma[i]\n",
    "            nu = self.nu[i]\n",
    "            S_mult = A * mu * (s / A)**((mu - rho) / mu) * p**(-theta)\n",
    "            P_mult = B * nu * (p / B)**((nu - sigma) / nu)\n",
    "            dPdK = b * x[..., 1]**(sigma - 1) * P_mult\n",
    "            dPdL = (1-b) * x[..., 3]**(sigma - 1) * P_mult\n",
    "            return np.array([\n",
    "                [\n",
    "                    a * x[..., 0]**(rho-1) * S_mult,\n",
    "                    s * (-theta) * p**(-theta-1) * dPdK,\n",
    "                    (1-a) * x[..., 2]**(rho-1) * S_mult,\n",
    "                    s * (-theta) * p**(-theta-1) * dPdL\n",
    "                ],\n",
    "                [\n",
    "                    np.zeros_like(dPdK),\n",
    "                    dPdK,\n",
    "                    np.zeros_like(dPdL),\n",
    "                    dPdL\n",
    "                ]\n",
    "            ])\n",
    "        return jac\n"
   ]
  },
  {
   "cell_type": "code",
   "execution_count": 34,
   "metadata": {},
   "outputs": [],
   "source": [
    "class MultiAgent:\n",
    "\n",
    "    def __init__(self, d, r, w, R, R_deriv, prodFunc):\n",
    "        \"\"\"\n",
    "        r and w should be scalars\n",
    "        Here d should be iterable of length n\n",
    "        (one entry for each person in the system)\n",
    "        R and prodFunc should be functions mapping R^n -> R^n\n",
    "        \"\"\"\n",
    "        self.d = d\n",
    "        self.r = r\n",
    "        self.w = w\n",
    "        self.R = R\n",
    "        self.R_deriv = R_deriv\n",
    "        self.prodFunc = prodFunc\n",
    "\n",
    "        self.n = len(d)\n",
    "\n",
    "    def net_payoff(self, Ks, Kp, Ls, Lp, i):\n",
    "        p = self.prodFunc.P(Kp, Lp)\n",
    "        s = self.prodFunc.S(Ks, Ls, p)\n",
    "        proba = (s / (1 + s)).prod(axis=-1)\n",
    "        return proba * self.R(p, i) - (1 - proba) * self.d[i] - self.r * (Ks[:, i] + Kp[:, i]) - self.w * (Ls[:, i] + Lp[:, i])\n",
    "\n",
    "    def get_func(self, history, i):\n",
    "        hist = history.copy()\n",
    "        def func(x):\n",
    "            hist[:, i] = np.repeat(x.reshape(1, -1), hist.shape[0], axis=0)\n",
    "            return -self.net_payoff(hist[..., 0], hist[..., 1], hist[..., 2], hist[..., 3], i).sum()\n",
    "        return func\n",
    "    \n",
    "    def get_jac(self, history, i):\n",
    "        prod_jac = self.prodFunc.get_jac(i)\n",
    "        hist = history.copy()\n",
    "        def jac(x):\n",
    "            hist[:, i, :] = np.repeat(x.reshape(1, -1), hist.shape[0], axis=0)\n",
    "            p = self.prodFunc.P(hist[:, :, 1], hist[:, :, 3])\n",
    "            s = self.prodFunc.S(hist[:, :, 0], hist[:, :, 2], p)\n",
    "            probas = s / (1 + s)\n",
    "            proba = probas.prod(axis=-1)\n",
    "            proba_no_i = proba / probas[:, i]\n",
    "            prod_jac_ = prod_jac(hist[:, i, :])\n",
    "            s_ks = prod_jac_[0, 0]\n",
    "            s_kp = prod_jac_[0, 1]\n",
    "            s_ls = prod_jac_[0, 2]\n",
    "            s_lp = prod_jac_[0, 3]\n",
    "            proba_ks = proba_no_i * s_ks / (1 + s[:, i])**2\n",
    "            proba_kp = proba_no_i * s_kp / (1 + s[:, i])**2\n",
    "            proba_ls = proba_no_i * s_ls / (1 + s[:, i])**2\n",
    "            proba_lp = proba_no_i * s_lp / (1 + s[:, i])**2\n",
    "            p_ks = prod_jac_[1, 0]  # == 0\n",
    "            p_kp = prod_jac_[1, 1]\n",
    "            p_ls = prod_jac_[1, 2]  # == 0\n",
    "            p_lp = prod_jac_[1, 3]\n",
    "            R = self.R(p, i)\n",
    "            R_deriv = self.R_deriv(p, i)\n",
    "            return -np.array([\n",
    "                proba_ks * (R + self.d[i]) + proba * R_deriv * p_ks - self.r,\n",
    "                proba_kp * (R + self.d[i]) + proba * R_deriv * p_kp - self.r,\n",
    "                proba_ls * (R + self.d[i]) + proba * R_deriv * p_ls - self.w,\n",
    "                proba_lp * (R + self.d[i]) + proba * R_deriv * p_lp - self.w\n",
    "            ]).sum(axis=1)\n",
    "        return jac\n",
    "    \n",
    "    def solve_single(self, history, verbose=1):\n",
    "        # at each iter, we figure out response for each player that maximizes average score over other players' past responses\n",
    "        # history should be t x n x 4, where t is number of previous trials, and n is number of players (== self.n)\n",
    "        strategies = np.empty(history.shape[1:])\n",
    "        for i in range(history.shape[1]):\n",
    "            res = minimize(\n",
    "                self.get_func(history, i),\n",
    "                x0=history[-1, i, :],\n",
    "                method='trust-constr',\n",
    "                jac=self.get_jac(history, i),\n",
    "                bounds=Bounds([0.0, 0.0, 0.0, 0.0], [np.inf, np.inf, np.inf, np.inf]),\n",
    "                options={\n",
    "                    'xtol': 1e-5,\n",
    "                    'verbose': verbose\n",
    "                }\n",
    "            )\n",
    "            strategies[i, :] = res.x\n",
    "        return strategies\n",
    "\n",
    "    def solve(self, T=100, window=10, tol=1e-3):\n",
    "        history = np.empty((T, self.n, 4))\n",
    "        history[0, :, :] = np.exp(np.random.randn(self.n, 4))\n",
    "        for t in range(1, T):\n",
    "            history[t, :, :] = problem.solve_single(history[max(0, t-window):t, :, :], verbose=0)\n",
    "            if np.abs((history[t, :, :] - history[t-1, :, :]) / history[t-1, :, :]).max() < tol:\n",
    "                print(f'Exited on iteration {t}')\n",
    "                return history[:t+1, :, :]\n",
    "        return history\n",
    "        "
   ]
  },
  {
   "cell_type": "code",
   "execution_count": 35,
   "metadata": {},
   "outputs": [],
   "source": [
    "def simple_CSF(p, i):\n",
    "    return p[..., i] / p.sum(axis=-1)\n",
    "\n",
    "def simple_CSF_deriv(p, i):\n",
    "    # dim = len(p)\n",
    "    sum_ = p.sum(axis=-1)\n",
    "    # return (-np.tile(p, (dim, 1)).T + np.eye(dim) * sum_) / sum_**2\n",
    "    return (sum_ - p[..., i]) / sum_**2"
   ]
  },
  {
   "cell_type": "code",
   "execution_count": 36,
   "metadata": {},
   "outputs": [
    {
     "name": "stderr",
     "output_type": "stream",
     "text": [
      "<ipython-input-5-682e6b0ff06d>:28: RuntimeWarning: invalid value encountered in power\n",
      "  return self.B * (self.b * Kp**self.sigma + (1-self.b) * Lp**self.sigma)**(self.nu/self.sigma)\n",
      "<ipython-input-5-682e6b0ff06d>:25: RuntimeWarning: invalid value encountered in sqrt\n",
      "  return self.B[i] * (self.b[i] * Kp**self.sigma[i] + (1-self.b[i]) * Lp**self.sigma[i])**(self.nu[i] / self.sigma[i])\n",
      "<ipython-input-5-682e6b0ff06d>:45: RuntimeWarning: invalid value encountered in power\n",
      "  dPdK = b * x[..., 1]**(sigma - 1) * P_mult\n",
      "<ipython-input-5-682e6b0ff06d>:46: RuntimeWarning: invalid value encountered in power\n",
      "  dPdL = (1-b) * x[..., 3]**(sigma - 1) * P_mult\n"
     ]
    },
    {
     "name": "stdout",
     "output_type": "stream",
     "text": [
      "Exited on iteration 30\n"
     ]
    },
    {
     "data": {
      "text/plain": [
       "array([[[1.60493804e-04, 1.59724728e-04, 1.16844384e-04, 9.80316425e-05],\n",
       "        [1.60494083e-04, 1.59724597e-04, 1.16848161e-04, 9.80289179e-05],\n",
       "        [1.60482172e-04, 1.59728994e-04, 1.16655070e-04, 9.81685872e-05],\n",
       "        [1.60494672e-04, 1.59724363e-04, 1.16857215e-04, 9.80223882e-05]],\n",
       "\n",
       "       [[1.60486393e-04, 1.59727396e-04, 1.16722783e-04, 9.81195196e-05],\n",
       "        [1.60486165e-04, 1.59727457e-04, 1.16718487e-04, 9.81226295e-05],\n",
       "        [1.60477409e-04, 1.59730774e-04, 1.16577655e-04, 9.82248046e-05],\n",
       "        [1.60486302e-04, 1.59727388e-04, 1.16720250e-04, 9.81213534e-05]],\n",
       "\n",
       "       [[1.60480252e-04, 1.59729679e-04, 1.16623087e-04, 9.81917974e-05],\n",
       "        [1.60480039e-04, 1.59729759e-04, 1.16619614e-04, 9.81943195e-05],\n",
       "        [1.60474025e-04, 1.59732068e-04, 1.16523115e-04, 9.82644870e-05],\n",
       "        [1.60480090e-04, 1.59729738e-04, 1.16620392e-04, 9.81937546e-05]]])"
      ]
     },
     "execution_count": 36,
     "metadata": {},
     "output_type": "execute_result"
    }
   ],
   "source": [
    "# a test with four identical players\n",
    "\n",
    "n = 4\n",
    "\n",
    "prodFunc = VecProdFunc(\n",
    "    A=np.ones(n),\n",
    "    a=np.ones(n)*0.2,\n",
    "    rho=np.ones(n)*0.5,\n",
    "    mu=np.ones(n)*0.6,\n",
    "    B=np.ones(n),\n",
    "    b=np.ones(n)*0.8,\n",
    "    sigma=np.ones(n)*0.5,\n",
    "    nu=np.ones(n)*0.6,\n",
    "    theta=np.zeros(n)\n",
    ")\n",
    "\n",
    "problem = MultiAgent(\n",
    "    d=np.ones(n)*0.1, r=0.02, w=0.03,\n",
    "    R=simple_CSF,\n",
    "    R_deriv=simple_CSF_deriv, \n",
    "    prodFunc=prodFunc\n",
    ")\n",
    "\n",
    "problem.solve()[-3:]"
   ]
  },
  {
   "cell_type": "code",
   "execution_count": 37,
   "metadata": {},
   "outputs": [
    {
     "name": "stderr",
     "output_type": "stream",
     "text": [
      "/home/mckay/anaconda3/lib/python3.8/site-packages/scipy/optimize/_hessian_update_strategy.py:182: UserWarning: delta_grad == 0.0. Check if the approximated function is linear. If the function is linear better results can be obtained by defining the Hessian as zero instead of using quasi-Newton approximations.\n",
      "  warn('delta_grad == 0.0. Check if the approximated '\n",
      "<ipython-input-5-682e6b0ff06d>:28: RuntimeWarning: invalid value encountered in power\n",
      "  return self.B * (self.b * Kp**self.sigma + (1-self.b) * Lp**self.sigma)**(self.nu/self.sigma)\n",
      "<ipython-input-5-682e6b0ff06d>:25: RuntimeWarning: invalid value encountered in sqrt\n",
      "  return self.B[i] * (self.b[i] * Kp**self.sigma[i] + (1-self.b[i]) * Lp**self.sigma[i])**(self.nu[i] / self.sigma[i])\n",
      "<ipython-input-5-682e6b0ff06d>:45: RuntimeWarning: invalid value encountered in power\n",
      "  dPdK = b * x[..., 1]**(sigma - 1) * P_mult\n",
      "<ipython-input-5-682e6b0ff06d>:46: RuntimeWarning: invalid value encountered in power\n",
      "  dPdL = (1-b) * x[..., 3]**(sigma - 1) * P_mult\n"
     ]
    },
    {
     "name": "stdout",
     "output_type": "stream",
     "text": [
      "Exited on iteration 60\n"
     ]
    },
    {
     "data": {
      "text/plain": [
       "array([[[1.61068816e-04, 1.59226458e-04, 1.18705313e-04, 9.67244402e-05],\n",
       "        [1.60385764e-04, 1.60622940e-04, 1.31113719e-04, 8.94413646e-05],\n",
       "        [1.94145756e-04, 1.26148457e-04, 1.07919339e-04, 1.06271847e-04],\n",
       "        [1.60020226e-04, 1.60001228e-04, 1.06684853e-04, 1.06744353e-04]],\n",
       "\n",
       "       [[1.61066968e-04, 1.59227922e-04, 1.18696552e-04, 9.67304415e-05],\n",
       "        [1.60387311e-04, 1.60626316e-04, 1.31186634e-04, 8.94045511e-05],\n",
       "        [1.93999525e-04, 1.26293299e-04, 1.07914012e-04, 1.06272675e-04],\n",
       "        [1.60020180e-04, 1.60001225e-04, 1.06684821e-04, 1.06744132e-04]],\n",
       "\n",
       "       [[1.61067137e-04, 1.59227960e-04, 1.18701236e-04, 9.67272325e-05],\n",
       "        [1.60385782e-04, 1.60623665e-04, 1.31124808e-04, 8.94357843e-05],\n",
       "        [1.94103338e-04, 1.26190812e-04, 1.07919566e-04, 1.06271140e-04],\n",
       "        [1.60020180e-04, 1.60001225e-04, 1.06684821e-04, 1.06744133e-04]]])"
      ]
     },
     "execution_count": 37,
     "metadata": {},
     "output_type": "execute_result"
    }
   ],
   "source": [
    "# a test with four heterogeneous players\n",
    "\n",
    "prodFunc = VecProdFunc(\n",
    "    A=np.array([1, 2, 3, 4]),\n",
    "    a=np.array([0.1, 0.2, 0.3, 0.4]),\n",
    "    rho=np.array([0.4, 0.5, 0.6, 0.7]),\n",
    "    mu=np.array([0.5, 0.6, 0.7, 0.8]),\n",
    "    B=np.array([4, 3, 2, 1]),\n",
    "    b=np.array([0.4, 0.3, 0.2, 0.1]),\n",
    "    sigma=np.array([0.7, 0.6, 0.5, 0.4]),\n",
    "    nu=np.array([0.8, 0.7, 0.6, 0.5]),\n",
    "    theta=np.zeros(4)\n",
    ")\n",
    "\n",
    "problem = MultiAgent(\n",
    "    d=np.array([0.1, 0.2, 0.3, 0.4]), r=0.02, w=0.03,\n",
    "    R=simple_CSF,\n",
    "    R_deriv=simple_CSF_deriv, \n",
    "    prodFunc=prodFunc\n",
    ")\n",
    "\n",
    "problem.solve()[-3:]"
   ]
  },
  {
   "cell_type": "code",
   "execution_count": null,
   "metadata": {},
   "outputs": [],
   "source": []
  }
 ],
 "metadata": {
  "interpreter": {
   "hash": "e7370f93d1d0cde622a1f8e1c04877d8463912d04d973331ad4851f04de6915a"
  },
  "kernelspec": {
   "display_name": "Python 3.9.7 64-bit",
   "language": "python",
   "name": "python3"
  },
  "language_info": {
   "codemirror_mode": {
    "name": "ipython",
    "version": 3
   },
   "file_extension": ".py",
   "mimetype": "text/x-python",
   "name": "python",
   "nbconvert_exporter": "python",
   "pygments_lexer": "ipython3",
   "version": "3.8.8"
  },
  "orig_nbformat": 4
 },
 "nbformat": 4,
 "nbformat_minor": 2
}
